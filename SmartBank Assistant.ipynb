{
 "cells": [
  {
   "cell_type": "code",
   "execution_count": null,
   "id": "c55bf72d-10a0-415e-ade5-bbf03cde90f6",
   "metadata": {},
   "outputs": [],
   "source": [
    "menue = input(\"\"\"\n",
    "Hi! how i can help you\n",
    "\n",
    "1. Enter 1 for change pin code\n",
    "2. Enter 2 for balance inquary\n",
    "3. Enter 3 for fund transfer\n",
    "4. Enter 4 for menue exit\n",
    "\"\"\")\n",
    "\n",
    "if menue == '1':\n",
    "  print('change pin code')\n",
    "elif menue == '2':\n",
    "  print('balance inquary')\n",
    "elif menue == '3':\n",
    "  print('fund transfer')\n",
    "else:\n",
    "  print('menue exit')"
   ]
  },
  {
   "cell_type": "code",
   "execution_count": null,
   "id": "169bbbc5-6bc2-43a8-854b-8375c870f7cf",
   "metadata": {},
   "outputs": [],
   "source": []
  }
 ],
 "metadata": {
  "kernelspec": {
   "display_name": "Python 3 (ipykernel)",
   "language": "python",
   "name": "python3"
  },
  "language_info": {
   "codemirror_mode": {
    "name": "ipython",
    "version": 3
   },
   "file_extension": ".py",
   "mimetype": "text/x-python",
   "name": "python",
   "nbconvert_exporter": "python",
   "pygments_lexer": "ipython3",
   "version": "3.12.5"
  }
 },
 "nbformat": 4,
 "nbformat_minor": 5
}
